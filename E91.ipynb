{
 "cells": [
  {
   "cell_type": "markdown",
   "metadata": {},
   "source": [
    "### **E91 Protocol**\n",
    "Simulation of the E91 Quantum Key Distribution Protocol using Qiskit.\n",
    "\n",
    "The following code is able to analyze the behaviour of the E91 Protocol under various scenarios.\n",
    "\n",
    "1. **Ideal Conditions**: No errors in the quantum channel and no eavesdropping. \n",
    "2. **Channel Errors**: Errors in the quantum channel but no eavesdropping.\n",
    "3. **Eavesdropping**: No errors in the quantum channel but Eve gets control of the site-generating entangled photons ($|\\psi^-\\rangle$) and sends to Alice and Bob a couple of photons in state $|01\\rangle$ or $|10\\rangle$ with probability $\\frac{1}{2}$."
   ]
  },
  {
   "cell_type": "code",
   "execution_count": 1,
   "metadata": {},
   "outputs": [],
   "source": [
    "# Importing the required libraries\n",
    "\n",
    "import math\n",
    "\n",
    "import random\n",
    "\n",
    "import numpy as np\n",
    "\n",
    "import seaborn as sns\n",
    "\n",
    "import matplotlib.pyplot as plt\n",
    "\n",
    "\n",
    "import qiskit\n",
    "from qiskit import QuantumCircuit, QuantumRegister, ClassicalRegister, transpile\n",
    "from qiskit_aer import AerSimulator\n",
    "from qiskit.result import marginal_counts"
   ]
  },
  {
   "cell_type": "markdown",
   "metadata": {},
   "source": [
    "The following code cell contains the parameters that must be configured to simulate the desired scenario.\n",
    "\n",
    "In particular, here are reported the different configurations for each of the considered scenarios:\n",
    "\n",
    "1. **Ideal Conditions**: \n",
    "    \n",
    "    - `n = 1`\n",
    "    - `theta_values = [np.pi]`\n",
    "    - `eavesdropping = False`\n",
    "  \n",
    "2. **Channel Errors**:\n",
    "\n",
    "    - `n = 1`\n",
    "    - `theta_values = [x]` where `x` can be $0 \\leq x < \\pi$, considering that for `x=0` the resulting state is completely depolarized.\n",
    "    - `eavesdropping = False`\n",
    "\n",
    "3. **Eavesdropping**:\n",
    "\n",
    "    - `n = 1`\n",
    "    - `theta_values = [np.pi]`\n",
    "    - `eavesdropping = True`\n",
    "\n",
    "The `epr_pairs` parameter can be adjusted to experiment with different numbers of EPR pairs generated during the execution of the protocol.\n",
    "\n",
    "To generate the plots at the bottom of this notebook, as required in the project specifications, a value of `n` greater than 1 is required. Specifically, at least 30 samples are needed for the Central Limit Theorem to apply, since a 95% confidence interval is being calculated. Additionally, to explore different values of $\\theta$, and consequently of the Werner parameter $w$, the function `np.linspace(0, np.pi, X)` can be used. This function generates `X` evenly spaced samples between 0 and $\\pi$. The parameter `X` determines the number of points on the graph, where the x-axis corresponds to the values of $\\theta$ (or equivalently, the Werner parameter derived from these $\\theta$ values)."
   ]
  },
  {
   "cell_type": "code",
   "execution_count": 2,
   "metadata": {},
   "outputs": [],
   "source": [
    "# Number of times the protocol is executed for each setting\n",
    "n = 30\n",
    "\n",
    "# Theta values to be used for the generation of the Werner States\n",
    "theta_values = np.linspace(0, np.pi, 20)\n",
    "\n",
    "# Whether Eve is eavesdropping or not\n",
    "eavesdropping = False\n",
    "\n",
    "# Number of EPR pairs to be generated in one execution of the protocol\n",
    "epr_pairs = 300"
   ]
  }
 ],
 "metadata": {
  "kernelspec": {
   "display_name": "QiskitEnv",
   "language": "python",
   "name": "python3"
  },
  "language_info": {
   "codemirror_mode": {
    "name": "ipython",
    "version": 3
   },
   "file_extension": ".py",
   "mimetype": "text/x-python",
   "name": "python",
   "nbconvert_exporter": "python",
   "pygments_lexer": "ipython3",
   "version": "3.12.8"
  }
 },
 "nbformat": 4,
 "nbformat_minor": 2
}
