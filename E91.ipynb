{
 "cells": [
  {
   "cell_type": "code",
   "execution_count": 1,
   "metadata": {},
   "outputs": [],
   "source": [
    "# Libraries import\n",
    "from qiskit import QuantumCircuit, QuantumRegister, ClassicalRegister\n",
    "from qiskit_aer import AerSimulator\n",
    "from qiskit.visualization import plot_bloch_multivector\n",
    "from qiskit.quantum_info import Statevector, Operator\n",
    "import matplotlib.pyplot as plt\n",
    "from qiskit.quantum_info import DensityMatrix\n",
    "import numpy as np\n",
    "import qiskit"
   ]
  },
  {
   "cell_type": "code",
   "execution_count": 2,
   "metadata": {},
   "outputs": [
    {
     "name": "stderr",
     "output_type": "stream",
     "text": [
      "C:\\Users\\giova\\AppData\\Local\\Temp\\ipykernel_27400\\2950140104.py:35: DeprecationWarning: The method ``qiskit.circuit.instructionset.InstructionSet.c_if()`` is deprecated as of qiskit 1.3.0. It will be removed in 2.0.0.\n",
      "  qc.x(1).c_if(0, 1)\n",
      "C:\\Users\\giova\\AppData\\Local\\Temp\\ipykernel_27400\\2950140104.py:48: DeprecationWarning: The method ``qiskit.circuit.instructionset.InstructionSet.c_if()`` is deprecated as of qiskit 1.3.0. It will be removed in 2.0.0.\n",
      "  qc.h(1).c_if(0, 0)\n",
      "C:\\Users\\giova\\AppData\\Local\\Temp\\ipykernel_27400\\2950140104.py:58: DeprecationWarning: The method ``qiskit.circuit.instructionset.InstructionSet.c_if()`` is deprecated as of qiskit 1.3.0. It will be removed in 2.0.0.\n",
      "  qc.cx(0, 1).c_if(0, 1)\n",
      "C:\\Users\\giova\\AppData\\Local\\Temp\\ipykernel_27400\\2950140104.py:72: DeprecationWarning: The method ``qiskit.circuit.instructionset.InstructionSet.c_if()`` is deprecated as of qiskit 1.3.0. It will be removed in 2.0.0.\n",
      "  qc.measure([0, 1], [temp[0], temp[1]]).c_if(0, 0)\n"
     ]
    },
    {
     "data": {
      "image/png": "[encoded data removed]",
      "text/plain": [
       "<Figure size 1162.47x367.889 with 1 Axes>"
      ]
     },
     "execution_count": 2,
     "metadata": {},
     "output_type": "execute_result"
    }
   ],
   "source": [
    "import numpy as np\n",
    "import qiskit\n",
    "\n",
    "\n",
    "# Get Qiskit version\n",
    "qiskit_version = qiskit.version.get_version_info()\n",
    "\n",
    "\n",
    "def specialized_werner_states_generator(theta: float) -> QuantumCircuit:\n",
    "    \"\"\"\n",
    "    A specialized circuit for generating Werner states with a given parameter theta.\n",
    "\n",
    "    Args:\n",
    "        theta: The parameter theta for the Werner state (in radians).\n",
    "    \n",
    "    Returns:\n",
    "        A QuantumCircuit that generates the Werner state.\n",
    "    \"\"\"\n",
    "\n",
    "    # Create a quantum circuit with 2 qubits and 1 classical bit\n",
    "    qc = QuantumCircuit(QuantumRegister(2, \"q\"), ClassicalRegister(1, \"c\"))\n",
    "\n",
    "    # Apply the R_y(theta) gate to the first qubit\n",
    "    qc.ry(theta, 0)\n",
    "\n",
    "    qc.barrier()\n",
    "\n",
    "    # Measure the first qubit\n",
    "    qc.measure(0, 0)\n",
    "\n",
    "    qc.barrier()\n",
    "\n",
    "    # Apply X gate on the second qubit if the measurement outcome is 1\n",
    "    if int(qiskit_version.split('.')[0]) < 2:\n",
    "        qc.x(1).c_if(0, 1)\n",
    "    else:\n",
    "        # From Qiskit 2.0.0.\n",
    "        with qc.if_test((0, 1)):\n",
    "            qc.x(1)\n",
    "\n",
    "    qc.barrier()\n",
    "\n",
    "    # Apply Hadamard gate on the first qubit\n",
    "    qc.h(0)\n",
    "\n",
    "    # Apply Hadamard gate on the second qubit if the measurement outcome is 0\n",
    "    if int(qiskit_version.split('.')[0]) < 2:\n",
    "        qc.h(1).c_if(0, 0)\n",
    "    else:\n",
    "        # From Qiskit 2.0.0.\n",
    "        with qc.if_test((0, 0)):\n",
    "            qc.h(1)\n",
    "\n",
    "    qc.barrier()\n",
    "\n",
    "    # Apply CNOT gate if the measurement outcome is 1\n",
    "    if int(qiskit_version.split('.')[0]) < 2:\n",
    "        qc.cx(0, 1).c_if(0, 1)\n",
    "    else: \n",
    "        # From Qiskit 2.0.0.\n",
    "        with qc.if_test((0, 1)):\n",
    "            qc.cx(0, 1)\n",
    "\n",
    "    qc.barrier()\n",
    "\n",
    "    # Measure both qubits if the previous measurement outcome is 0\n",
    "    # We do not want to preserve the results of these measurements.\n",
    "    # So we create a new classical register with 2 bits, called \"temp\"\n",
    "    temp = ClassicalRegister(2, \"temp\")\n",
    "    qc.add_register(temp)\n",
    "    if int(qiskit_version.split('.')[0]) < 2:\n",
    "        qc.measure([0, 1], [temp[0], temp[1]]).c_if(0, 0)\n",
    "    else:\n",
    "        # From Qiskit 2.0.0.\n",
    "        with qc.if_test((0, 0)):\n",
    "            qc.measure([0, 1], [temp[0], temp[1]])\n",
    "\n",
    "    return qc\n",
    "\n",
    "\n",
    "\n",
    "qc = specialized_werner_states_generator(np.pi)\n",
    "# draw the circuit\n",
    "qc.draw('mpl')\n",
    "    "
   ]
  }
 ],
 "metadata": {
  "kernelspec": {
   "display_name": "QiskitEnv",
   "language": "python",
   "name": "python3"
  },
  "language_info": {
   "codemirror_mode": {
    "name": "ipython",
    "version": 3
   },
   "file_extension": ".py",
   "mimetype": "text/x-python",
   "name": "python",
   "nbconvert_exporter": "python",
   "pygments_lexer": "ipython3",
   "version": "3.12.8"
  }
 },
 "nbformat": 4,
 "nbformat_minor": 2
}
